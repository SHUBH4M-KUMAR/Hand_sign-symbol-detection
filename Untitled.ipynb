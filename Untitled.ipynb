{
 "cells": [
  {
   "cell_type": "code",
   "execution_count": 8,
   "id": "6cf55ce7-3eab-44cc-9b32-2a0ac7bbdaef",
   "metadata": {},
   "outputs": [],
   "source": [
    "# Save the following code in a cell in your Jupyter Notebook\n",
    "\n",
    "code = \"\"\"\n",
    "import streamlit as st\n",
    "\n",
    "def main():\n",
    "    st.title(\"Simple Streamlit App\")\n",
    "    \n",
    "    # Add some text to the app\n",
    "    st.write(\"Welcome to this Streamlit app!\")\n",
    "    \n",
    "    # Get user input\n",
    "    user_input = st.text_input(\"Enter something:\")\n",
    "    \n",
    "    # Display the input\n",
    "    st.write(\"You entered:\", user_input)\n",
    "    \n",
    "    # Create a button\n",
    "    if st.button(\"Click me\"):\n",
    "        st.write(\"Button clicked!\")\n",
    "\n",
    "if __name__ == \"__main__\":\n",
    "    main()\n",
    "\"\"\"\n",
    "\n",
    "with open(\"streamlit_app.py\", \"w\") as file:\n",
    "    file.write(code)\n"
   ]
  },
  {
   "cell_type": "code",
   "execution_count": 10,
   "id": "d9efee22-43c7-4cf2-86f2-62f3d0d5e00a",
   "metadata": {},
   "outputs": [
    {
     "name": "stdout",
     "output_type": "stream",
     "text": [
      "^C\n"
     ]
    }
   ],
   "source": [
    "!streamlit run streamlit_app.py\n",
    "\n"
   ]
  },
  {
   "cell_type": "code",
   "execution_count": 9,
   "id": "718dfafc-664c-4f96-a0f0-184addff1765",
   "metadata": {},
   "outputs": [],
   "source": [
    "%run streamlit_app.py"
   ]
  },
  {
   "cell_type": "code",
   "execution_count": null,
   "id": "f92a722a-d76c-4c38-97eb-baad8a624439",
   "metadata": {},
   "outputs": [],
   "source": []
  }
 ],
 "metadata": {
  "kernelspec": {
   "display_name": "Python 3 (ipykernel)",
   "language": "python",
   "name": "python3"
  },
  "language_info": {
   "codemirror_mode": {
    "name": "ipython",
    "version": 3
   },
   "file_extension": ".py",
   "mimetype": "text/x-python",
   "name": "python",
   "nbconvert_exporter": "python",
   "pygments_lexer": "ipython3",
   "version": "3.8.18"
  }
 },
 "nbformat": 4,
 "nbformat_minor": 5
}
